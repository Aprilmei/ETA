{
 "cells": [
  {
   "cell_type": "markdown",
   "metadata": {},
   "source": [
    "# Formatting & Cleaning Stop Data\n",
    "\n",
    "## Parsing the Stops File to Pull Information Needed for the Static Stops Table in the Database\n",
    "## Writing out to a file in json format"
   ]
  },
  {
   "cell_type": "code",
   "execution_count": 159,
   "metadata": {
    "collapsed": false
   },
   "outputs": [],
   "source": [
    "import pandas as pd\n",
    "import json\n",
    "df_stops = pd.read_csv('stopinfo_2012.csv', encoding=\"utf-8\")"
   ]
  },
  {
   "cell_type": "code",
   "execution_count": 160,
   "metadata": {
    "collapsed": false
   },
   "outputs": [
    {
     "data": {
      "text/html": [
       "<div>\n",
       "<table border=\"1\" class=\"dataframe\">\n",
       "  <thead>\n",
       "    <tr style=\"text-align: right;\">\n",
       "      <th></th>\n",
       "      <th>Unnamed: 0</th>\n",
       "      <th>Stop number</th>\n",
       "      <th>Name without locality</th>\n",
       "      <th>Locality</th>\n",
       "      <th>Locality number</th>\n",
       "      <th>Code</th>\n",
       "      <th>Stop No</th>\n",
       "      <th>NaPTAN stop class</th>\n",
       "      <th>NaPTANId</th>\n",
       "      <th>Easting</th>\n",
       "      <th>Northing</th>\n",
       "      <th>lat</th>\n",
       "      <th>lon</th>\n",
       "    </tr>\n",
       "  </thead>\n",
       "  <tbody>\n",
       "    <tr>\n",
       "      <th>0</th>\n",
       "      <td>0</td>\n",
       "      <td>1</td>\n",
       "      <td>Pearse Street (Pearse Avenue)</td>\n",
       "      <td>Sallynoggin</td>\n",
       "      <td>E0825024</td>\n",
       "      <td>-&gt;NE2</td>\n",
       "      <td>3234</td>\n",
       "      <td>BCT</td>\n",
       "      <td>8250DB003234</td>\n",
       "      <td>724091.0</td>\n",
       "      <td>726427.0</td>\n",
       "      <td>53.273638</td>\n",
       "      <td>-6.139472</td>\n",
       "    </tr>\n",
       "    <tr>\n",
       "      <th>1</th>\n",
       "      <td>1</td>\n",
       "      <td>1</td>\n",
       "      <td>Pearse Street (Pearse Avenue)</td>\n",
       "      <td>Sallynoggin</td>\n",
       "      <td>E0825024</td>\n",
       "      <td>-&gt;SW1</td>\n",
       "      <td>3210</td>\n",
       "      <td>BCT</td>\n",
       "      <td>8250DB003210</td>\n",
       "      <td>724087.0</td>\n",
       "      <td>726412.0</td>\n",
       "      <td>53.273504</td>\n",
       "      <td>-6.139538</td>\n",
       "    </tr>\n",
       "    <tr>\n",
       "      <th>2</th>\n",
       "      <td>4</td>\n",
       "      <td>3</td>\n",
       "      <td>Clontarf Road Junction Strandville Avenu</td>\n",
       "      <td>Clontarf</td>\n",
       "      <td>E0822038</td>\n",
       "      <td>1</td>\n",
       "      <td>174</td>\n",
       "      <td>BCT</td>\n",
       "      <td>8220DB001741</td>\n",
       "      <td>718428.0</td>\n",
       "      <td>736222.0</td>\n",
       "      <td>53.362917</td>\n",
       "      <td>-6.220676</td>\n",
       "    </tr>\n",
       "    <tr>\n",
       "      <th>3</th>\n",
       "      <td>6</td>\n",
       "      <td>4</td>\n",
       "      <td>College Green</td>\n",
       "      <td>Dublin City South</td>\n",
       "      <td>E0822091</td>\n",
       "      <td>2</td>\n",
       "      <td>135</td>\n",
       "      <td>BCT</td>\n",
       "      <td>8220DB001359</td>\n",
       "      <td>715770.0</td>\n",
       "      <td>734095.0</td>\n",
       "      <td>53.344399</td>\n",
       "      <td>-6.261369</td>\n",
       "    </tr>\n",
       "    <tr>\n",
       "      <th>4</th>\n",
       "      <td>8</td>\n",
       "      <td>4</td>\n",
       "      <td>College Green</td>\n",
       "      <td>Dublin City South</td>\n",
       "      <td>E0822091</td>\n",
       "      <td>4</td>\n",
       "      <td>45</td>\n",
       "      <td>BCT</td>\n",
       "      <td>8220DB004522</td>\n",
       "      <td>715821.0</td>\n",
       "      <td>734081.0</td>\n",
       "      <td>53.344262</td>\n",
       "      <td>-6.260608</td>\n",
       "    </tr>\n",
       "  </tbody>\n",
       "</table>\n",
       "</div>"
      ],
      "text/plain": [
       "   Unnamed: 0  Stop number                     Name without locality  \\\n",
       "0           0            1             Pearse Street (Pearse Avenue)   \n",
       "1           1            1             Pearse Street (Pearse Avenue)   \n",
       "2           4            3  Clontarf Road Junction Strandville Avenu   \n",
       "3           6            4                             College Green   \n",
       "4           8            4                             College Green   \n",
       "\n",
       "            Locality Locality number   Code Stop No NaPTAN stop class  \\\n",
       "0        Sallynoggin        E0825024  ->NE2    3234               BCT   \n",
       "1        Sallynoggin        E0825024  ->SW1    3210               BCT   \n",
       "2           Clontarf        E0822038      1     174               BCT   \n",
       "3  Dublin City South        E0822091      2     135               BCT   \n",
       "4  Dublin City South        E0822091      4      45               BCT   \n",
       "\n",
       "       NaPTANId   Easting  Northing        lat       lon  \n",
       "0  8250DB003234  724091.0  726427.0  53.273638 -6.139472  \n",
       "1  8250DB003210  724087.0  726412.0  53.273504 -6.139538  \n",
       "2  8220DB001741  718428.0  736222.0  53.362917 -6.220676  \n",
       "3  8220DB001359  715770.0  734095.0  53.344399 -6.261369  \n",
       "4  8220DB004522  715821.0  734081.0  53.344262 -6.260608  "
      ]
     },
     "execution_count": 160,
     "metadata": {},
     "output_type": "execute_result"
    }
   ],
   "source": [
    "df_stops.head()"
   ]
  },
  {
   "cell_type": "code",
   "execution_count": 161,
   "metadata": {
    "collapsed": false
   },
   "outputs": [
    {
     "data": {
      "text/plain": [
       "Index(['Unnamed: 0', 'Stop number', 'Name without locality', 'Locality',\n",
       "       'Locality number', 'Code', 'Stop No', 'NaPTAN stop class', 'NaPTANId',\n",
       "       'Easting', 'Northing', 'lat', 'lon'],\n",
       "      dtype='object')"
      ]
     },
     "execution_count": 161,
     "metadata": {},
     "output_type": "execute_result"
    }
   ],
   "source": [
    "df_stops.columns"
   ]
  },
  {
   "cell_type": "code",
   "execution_count": 162,
   "metadata": {
    "collapsed": false
   },
   "outputs": [],
   "source": [
    "df_stops.drop(df_stops.columns[[0, 1, 4, 5, 6, 7, 9, 10]], axis=1, inplace=True)"
   ]
  },
  {
   "cell_type": "code",
   "execution_count": 163,
   "metadata": {
    "collapsed": false
   },
   "outputs": [
    {
     "data": {
      "text/plain": [
       "Index(['Name without locality', 'Locality', 'NaPTANId', 'lat', 'lon'], dtype='object')"
      ]
     },
     "execution_count": 163,
     "metadata": {},
     "output_type": "execute_result"
    }
   ],
   "source": [
    "df_stops.columns"
   ]
  },
  {
   "cell_type": "code",
   "execution_count": 164,
   "metadata": {
    "collapsed": false
   },
   "outputs": [
    {
     "data": {
      "text/plain": [
       "Name without locality    0\n",
       "Locality                 0\n",
       "NaPTANId                 0\n",
       "lat                      0\n",
       "lon                      0\n",
       "dtype: int64"
      ]
     },
     "execution_count": 164,
     "metadata": {},
     "output_type": "execute_result"
    }
   ],
   "source": [
    "df_stops.isnull().sum()"
   ]
  },
  {
   "cell_type": "code",
   "execution_count": 165,
   "metadata": {
    "collapsed": false
   },
   "outputs": [
    {
     "data": {
      "text/plain": [
       "(5255, 5)"
      ]
     },
     "execution_count": 165,
     "metadata": {},
     "output_type": "execute_result"
    }
   ],
   "source": [
    "df_stops.shape"
   ]
  },
  {
   "cell_type": "code",
   "execution_count": 166,
   "metadata": {
    "collapsed": false
   },
   "outputs": [],
   "source": [
    "class Stop:\n",
    "    def __init__(self, address, stop_id, latitude, longitude):\n",
    "        self.__address = address\n",
    "        self.__stop_id = stop_id\n",
    "        self.__latitude = latitude\n",
    "        self.__longitude = longitude\n",
    "    \n",
    "    def __str__(self):\n",
    "        str1 = \"Stop ID: \" + self.__stop_id + \"\\nStop Address: \" + self.__address + \"\\nLatitude: \" + str(self.__latitude) + \"\\nLongitude: \" + str(self.__longitude) \n",
    "        return str1\n",
    "        \n",
    "stops = []"
   ]
  },
  {
   "cell_type": "code",
   "execution_count": 167,
   "metadata": {
    "collapsed": false
   },
   "outputs": [
    {
     "data": {
      "text/html": [
       "<div>\n",
       "<table border=\"1\" class=\"dataframe\">\n",
       "  <thead>\n",
       "    <tr style=\"text-align: right;\">\n",
       "      <th></th>\n",
       "      <th>Name without locality</th>\n",
       "      <th>Locality</th>\n",
       "      <th>NaPTANId</th>\n",
       "      <th>lat</th>\n",
       "      <th>lon</th>\n",
       "    </tr>\n",
       "  </thead>\n",
       "  <tbody>\n",
       "    <tr>\n",
       "      <th>0</th>\n",
       "      <td>Pearse Street (Pearse Avenue)</td>\n",
       "      <td>Sallynoggin</td>\n",
       "      <td>8250DB003234</td>\n",
       "      <td>53.273638</td>\n",
       "      <td>-6.139472</td>\n",
       "    </tr>\n",
       "    <tr>\n",
       "      <th>1</th>\n",
       "      <td>Pearse Street (Pearse Avenue)</td>\n",
       "      <td>Sallynoggin</td>\n",
       "      <td>8250DB003210</td>\n",
       "      <td>53.273504</td>\n",
       "      <td>-6.139538</td>\n",
       "    </tr>\n",
       "    <tr>\n",
       "      <th>2</th>\n",
       "      <td>Clontarf Road Junction Strandville Avenu</td>\n",
       "      <td>Clontarf</td>\n",
       "      <td>8220DB001741</td>\n",
       "      <td>53.362917</td>\n",
       "      <td>-6.220676</td>\n",
       "    </tr>\n",
       "    <tr>\n",
       "      <th>3</th>\n",
       "      <td>College Green</td>\n",
       "      <td>Dublin City South</td>\n",
       "      <td>8220DB001359</td>\n",
       "      <td>53.344399</td>\n",
       "      <td>-6.261369</td>\n",
       "    </tr>\n",
       "    <tr>\n",
       "      <th>4</th>\n",
       "      <td>College Green</td>\n",
       "      <td>Dublin City South</td>\n",
       "      <td>8220DB004522</td>\n",
       "      <td>53.344262</td>\n",
       "      <td>-6.260608</td>\n",
       "    </tr>\n",
       "  </tbody>\n",
       "</table>\n",
       "</div>"
      ],
      "text/plain": [
       "                      Name without locality           Locality      NaPTANId  \\\n",
       "0             Pearse Street (Pearse Avenue)        Sallynoggin  8250DB003234   \n",
       "1             Pearse Street (Pearse Avenue)        Sallynoggin  8250DB003210   \n",
       "2  Clontarf Road Junction Strandville Avenu           Clontarf  8220DB001741   \n",
       "3                             College Green  Dublin City South  8220DB001359   \n",
       "4                             College Green  Dublin City South  8220DB004522   \n",
       "\n",
       "         lat       lon  \n",
       "0  53.273638 -6.139472  \n",
       "1  53.273504 -6.139538  \n",
       "2  53.362917 -6.220676  \n",
       "3  53.344399 -6.261369  \n",
       "4  53.344262 -6.260608  "
      ]
     },
     "execution_count": 167,
     "metadata": {},
     "output_type": "execute_result"
    }
   ],
   "source": [
    "df_stops.head()"
   ]
  },
  {
   "cell_type": "code",
   "execution_count": 168,
   "metadata": {
    "collapsed": false
   },
   "outputs": [],
   "source": [
    "stops_2012 = {}\n",
    "temp_stop_id = \"Null\"\n",
    "temp_stop_address = \"Null\"\n",
    "year = 2012\n",
    "\n",
    "df_stops['stop_id'] = temp_stop_id\n",
    "df_stops['stop_address'] = temp_stop_address\n",
    "df_stops['year'] = year\n",
    "\n",
    "for index, row in df_stops.iterrows():\n",
    "    stop_address = row['Name without locality'] + \", \" + row['Locality']\n",
    "    stop_id = row['NaPTANId'][8:]\n",
    "    if stop_id.startswith(\"00\"):\n",
    "        stop_id = stop_id[2:]\n",
    "    elif stop_id.startswith(\"0\"):\n",
    "        stop_id = stop_id[1:]\n",
    "    lat = row[\"lat\"]\n",
    "    lon = row[\"lon\"]\n",
    "    stops_2012[stop_id] = {\"stop_address\": stop_address, \"latitude\": lat, \"longitude\": lon}\n",
    "    \n",
    "    df_stops.set_value(index, 'stop_id', stop_id)\n",
    "    df_stops.set_value(index, 'stop_address', stop_address)"
   ]
  },
  {
   "cell_type": "code",
   "execution_count": 169,
   "metadata": {
    "collapsed": false
   },
   "outputs": [
    {
     "data": {
      "text/html": [
       "<div>\n",
       "<table border=\"1\" class=\"dataframe\">\n",
       "  <thead>\n",
       "    <tr style=\"text-align: right;\">\n",
       "      <th></th>\n",
       "      <th>Name without locality</th>\n",
       "      <th>Locality</th>\n",
       "      <th>NaPTANId</th>\n",
       "      <th>lat</th>\n",
       "      <th>lon</th>\n",
       "      <th>stop_id</th>\n",
       "      <th>stop_address</th>\n",
       "      <th>year</th>\n",
       "    </tr>\n",
       "  </thead>\n",
       "  <tbody>\n",
       "    <tr>\n",
       "      <th>0</th>\n",
       "      <td>Pearse Street (Pearse Avenue)</td>\n",
       "      <td>Sallynoggin</td>\n",
       "      <td>8250DB003234</td>\n",
       "      <td>53.273638</td>\n",
       "      <td>-6.139472</td>\n",
       "      <td>3234</td>\n",
       "      <td>Pearse Street (Pearse Avenue), Sallynoggin</td>\n",
       "      <td>2012</td>\n",
       "    </tr>\n",
       "    <tr>\n",
       "      <th>1</th>\n",
       "      <td>Pearse Street (Pearse Avenue)</td>\n",
       "      <td>Sallynoggin</td>\n",
       "      <td>8250DB003210</td>\n",
       "      <td>53.273504</td>\n",
       "      <td>-6.139538</td>\n",
       "      <td>3210</td>\n",
       "      <td>Pearse Street (Pearse Avenue), Sallynoggin</td>\n",
       "      <td>2012</td>\n",
       "    </tr>\n",
       "    <tr>\n",
       "      <th>2</th>\n",
       "      <td>Clontarf Road Junction Strandville Avenu</td>\n",
       "      <td>Clontarf</td>\n",
       "      <td>8220DB001741</td>\n",
       "      <td>53.362917</td>\n",
       "      <td>-6.220676</td>\n",
       "      <td>1741</td>\n",
       "      <td>Clontarf Road Junction Strandville Avenu, Clon...</td>\n",
       "      <td>2012</td>\n",
       "    </tr>\n",
       "    <tr>\n",
       "      <th>3</th>\n",
       "      <td>College Green</td>\n",
       "      <td>Dublin City South</td>\n",
       "      <td>8220DB001359</td>\n",
       "      <td>53.344399</td>\n",
       "      <td>-6.261369</td>\n",
       "      <td>1359</td>\n",
       "      <td>College Green, Dublin City South</td>\n",
       "      <td>2012</td>\n",
       "    </tr>\n",
       "    <tr>\n",
       "      <th>4</th>\n",
       "      <td>College Green</td>\n",
       "      <td>Dublin City South</td>\n",
       "      <td>8220DB004522</td>\n",
       "      <td>53.344262</td>\n",
       "      <td>-6.260608</td>\n",
       "      <td>4522</td>\n",
       "      <td>College Green, Dublin City South</td>\n",
       "      <td>2012</td>\n",
       "    </tr>\n",
       "  </tbody>\n",
       "</table>\n",
       "</div>"
      ],
      "text/plain": [
       "                      Name without locality           Locality      NaPTANId  \\\n",
       "0             Pearse Street (Pearse Avenue)        Sallynoggin  8250DB003234   \n",
       "1             Pearse Street (Pearse Avenue)        Sallynoggin  8250DB003210   \n",
       "2  Clontarf Road Junction Strandville Avenu           Clontarf  8220DB001741   \n",
       "3                             College Green  Dublin City South  8220DB001359   \n",
       "4                             College Green  Dublin City South  8220DB004522   \n",
       "\n",
       "         lat       lon stop_id  \\\n",
       "0  53.273638 -6.139472    3234   \n",
       "1  53.273504 -6.139538    3210   \n",
       "2  53.362917 -6.220676    1741   \n",
       "3  53.344399 -6.261369    1359   \n",
       "4  53.344262 -6.260608    4522   \n",
       "\n",
       "                                        stop_address  year  \n",
       "0         Pearse Street (Pearse Avenue), Sallynoggin  2012  \n",
       "1         Pearse Street (Pearse Avenue), Sallynoggin  2012  \n",
       "2  Clontarf Road Junction Strandville Avenu, Clon...  2012  \n",
       "3                   College Green, Dublin City South  2012  \n",
       "4                   College Green, Dublin City South  2012  "
      ]
     },
     "execution_count": 169,
     "metadata": {},
     "output_type": "execute_result"
    }
   ],
   "source": [
    "df_stops.head()"
   ]
  },
  {
   "cell_type": "code",
   "execution_count": 170,
   "metadata": {
    "collapsed": false
   },
   "outputs": [
    {
     "data": {
      "text/plain": [
       "Index(['lat', 'lon', 'stop_id', 'stop_address', 'year'], dtype='object')"
      ]
     },
     "execution_count": 170,
     "metadata": {},
     "output_type": "execute_result"
    }
   ],
   "source": [
    "df_stops.drop(df_stops.columns[[0, 1, 2]], axis=1, inplace=True)\n",
    "df_stops.columns"
   ]
  },
  {
   "cell_type": "code",
   "execution_count": 171,
   "metadata": {
    "collapsed": false
   },
   "outputs": [
    {
     "name": "stdout",
     "output_type": "stream",
     "text": [
      "{'stop_address': 'Pearse Street (Pearse Avenue), Sallynoggin', 'latitude': 53.27363813901732, 'longitude': -6.139471738315902}\n"
     ]
    }
   ],
   "source": [
    "print(stops_2012['3234'])"
   ]
  },
  {
   "cell_type": "code",
   "execution_count": 172,
   "metadata": {
    "collapsed": false
   },
   "outputs": [],
   "source": [
    "with open('stop_objects_2012.txt', 'w') as f:\n",
    "    json.dump(stops_2012, f)"
   ]
  },
  {
   "cell_type": "markdown",
   "metadata": {},
   "source": [
    "# 2017 Stops"
   ]
  },
  {
   "cell_type": "code",
   "execution_count": 173,
   "metadata": {
    "collapsed": false
   },
   "outputs": [
    {
     "data": {
      "text/html": [
       "<div>\n",
       "<table border=\"1\" class=\"dataframe\">\n",
       "  <thead>\n",
       "    <tr style=\"text-align: right;\">\n",
       "      <th></th>\n",
       "      <th>stop_id</th>\n",
       "      <th>stop_address</th>\n",
       "      <th>latitude</th>\n",
       "      <th>longitude</th>\n",
       "    </tr>\n",
       "  </thead>\n",
       "  <tbody>\n",
       "    <tr>\n",
       "      <th>0</th>\n",
       "      <td>2</td>\n",
       "      <td>Parnell Square</td>\n",
       "      <td>53.352241</td>\n",
       "      <td>-6.263695</td>\n",
       "    </tr>\n",
       "    <tr>\n",
       "      <th>1</th>\n",
       "      <td>3</td>\n",
       "      <td>Parnell Square</td>\n",
       "      <td>53.352307</td>\n",
       "      <td>-6.263783</td>\n",
       "    </tr>\n",
       "    <tr>\n",
       "      <th>2</th>\n",
       "      <td>4</td>\n",
       "      <td>Parnell Square</td>\n",
       "      <td>53.352567</td>\n",
       "      <td>-6.264166</td>\n",
       "    </tr>\n",
       "    <tr>\n",
       "      <th>3</th>\n",
       "      <td>6</td>\n",
       "      <td>Parnell Square</td>\n",
       "      <td>53.352744</td>\n",
       "      <td>-6.264443</td>\n",
       "    </tr>\n",
       "    <tr>\n",
       "      <th>4</th>\n",
       "      <td>7</td>\n",
       "      <td>Parnell Square</td>\n",
       "      <td>53.352836</td>\n",
       "      <td>-6.264562</td>\n",
       "    </tr>\n",
       "  </tbody>\n",
       "</table>\n",
       "</div>"
      ],
      "text/plain": [
       "   stop_id    stop_address   latitude  longitude\n",
       "0        2  Parnell Square  53.352241  -6.263695\n",
       "1        3  Parnell Square  53.352307  -6.263783\n",
       "2        4  Parnell Square  53.352567  -6.264166\n",
       "3        6  Parnell Square  53.352744  -6.264443\n",
       "4        7  Parnell Square  53.352836  -6.264562"
      ]
     },
     "execution_count": 173,
     "metadata": {},
     "output_type": "execute_result"
    }
   ],
   "source": [
    "df_stops_2017 = pd.read_csv('2017_stops.csv', encoding=\"utf-8\")\n",
    "df_stops_2017.head()"
   ]
  },
  {
   "cell_type": "code",
   "execution_count": 174,
   "metadata": {
    "collapsed": true
   },
   "outputs": [],
   "source": [
    "year = 2017\n",
    "df_stops_2017['year'] = year"
   ]
  },
  {
   "cell_type": "code",
   "execution_count": 175,
   "metadata": {
    "collapsed": false
   },
   "outputs": [],
   "source": [
    "stops_2017 = {}\n",
    "for index, row in df_stops_2017.iterrows():\n",
    "    stop_id = row[\"stop_id\"]\n",
    "    stop_address = row[\"stop_address\"]\n",
    "    latitude = row[\"latitude\"]\n",
    "    longitude = row[\"longitude\"]\n",
    "    stops_2017[stop_id] = {\"stop_address\": stop_address, \"latitude\": latitude, \"longitude\": longitude}"
   ]
  },
  {
   "cell_type": "code",
   "execution_count": 176,
   "metadata": {
    "collapsed": true
   },
   "outputs": [],
   "source": [
    "with open('stop_info_2017_cleaned.txt', 'w') as f:\n",
    "    json.dump(stops_2017, f)"
   ]
  },
  {
   "cell_type": "code",
   "execution_count": 177,
   "metadata": {
    "collapsed": false
   },
   "outputs": [
    {
     "data": {
      "text/html": [
       "<div>\n",
       "<table border=\"1\" class=\"dataframe\">\n",
       "  <thead>\n",
       "    <tr style=\"text-align: right;\">\n",
       "      <th></th>\n",
       "      <th>count</th>\n",
       "      <th>mean</th>\n",
       "      <th>std</th>\n",
       "      <th>min</th>\n",
       "      <th>25%</th>\n",
       "      <th>50%</th>\n",
       "      <th>75%</th>\n",
       "      <th>max</th>\n",
       "    </tr>\n",
       "  </thead>\n",
       "  <tbody>\n",
       "    <tr>\n",
       "      <th>stop_id</th>\n",
       "      <td>9924.0</td>\n",
       "      <td>176627.806530</td>\n",
       "      <td>211681.913285</td>\n",
       "      <td>2.000000</td>\n",
       "      <td>3006.750000</td>\n",
       "      <td>103056.000000</td>\n",
       "      <td>331423.500000</td>\n",
       "      <td>991231.000000</td>\n",
       "    </tr>\n",
       "    <tr>\n",
       "      <th>latitude</th>\n",
       "      <td>9924.0</td>\n",
       "      <td>53.125063</td>\n",
       "      <td>0.982737</td>\n",
       "      <td>0.000000</td>\n",
       "      <td>52.880134</td>\n",
       "      <td>53.317570</td>\n",
       "      <td>53.396683</td>\n",
       "      <td>55.002956</td>\n",
       "    </tr>\n",
       "    <tr>\n",
       "      <th>longitude</th>\n",
       "      <td>9924.0</td>\n",
       "      <td>-7.205049</td>\n",
       "      <td>1.175565</td>\n",
       "      <td>-10.453396</td>\n",
       "      <td>-8.460172</td>\n",
       "      <td>-6.442055</td>\n",
       "      <td>-6.256965</td>\n",
       "      <td>0.000000</td>\n",
       "    </tr>\n",
       "    <tr>\n",
       "      <th>year</th>\n",
       "      <td>9924.0</td>\n",
       "      <td>2017.000000</td>\n",
       "      <td>0.000000</td>\n",
       "      <td>2017.000000</td>\n",
       "      <td>2017.000000</td>\n",
       "      <td>2017.000000</td>\n",
       "      <td>2017.000000</td>\n",
       "      <td>2017.000000</td>\n",
       "    </tr>\n",
       "  </tbody>\n",
       "</table>\n",
       "</div>"
      ],
      "text/plain": [
       "            count           mean            std          min          25%  \\\n",
       "stop_id    9924.0  176627.806530  211681.913285     2.000000  3006.750000   \n",
       "latitude   9924.0      53.125063       0.982737     0.000000    52.880134   \n",
       "longitude  9924.0      -7.205049       1.175565   -10.453396    -8.460172   \n",
       "year       9924.0    2017.000000       0.000000  2017.000000  2017.000000   \n",
       "\n",
       "                     50%            75%            max  \n",
       "stop_id    103056.000000  331423.500000  991231.000000  \n",
       "latitude       53.317570      53.396683      55.002956  \n",
       "longitude      -6.442055      -6.256965       0.000000  \n",
       "year         2017.000000    2017.000000    2017.000000  "
      ]
     },
     "execution_count": 177,
     "metadata": {},
     "output_type": "execute_result"
    }
   ],
   "source": [
    "df_stops_2017.describe().T"
   ]
  },
  {
   "cell_type": "code",
   "execution_count": 178,
   "metadata": {
    "collapsed": true
   },
   "outputs": [],
   "source": [
    "df_stops_2017['latitude'] = df_stops_2017['latitude'].astype('category')\n",
    "df_stops_2017['longitude'] = df_stops_2017['longitude'].astype('category')"
   ]
  },
  {
   "cell_type": "code",
   "execution_count": 179,
   "metadata": {
    "collapsed": false
   },
   "outputs": [
    {
     "data": {
      "text/html": [
       "<div>\n",
       "<table border=\"1\" class=\"dataframe\">\n",
       "  <thead>\n",
       "    <tr style=\"text-align: right;\">\n",
       "      <th></th>\n",
       "      <th>count</th>\n",
       "      <th>unique</th>\n",
       "      <th>top</th>\n",
       "      <th>freq</th>\n",
       "    </tr>\n",
       "  </thead>\n",
       "  <tbody>\n",
       "    <tr>\n",
       "      <th>longitude</th>\n",
       "      <td>9924.0</td>\n",
       "      <td>9828.0</td>\n",
       "      <td>0.000000</td>\n",
       "      <td>2.0</td>\n",
       "    </tr>\n",
       "    <tr>\n",
       "      <th>latitude</th>\n",
       "      <td>9924.0</td>\n",
       "      <td>9811.0</td>\n",
       "      <td>53.277248</td>\n",
       "      <td>3.0</td>\n",
       "    </tr>\n",
       "  </tbody>\n",
       "</table>\n",
       "</div>"
      ],
      "text/plain": [
       "            count  unique        top  freq\n",
       "longitude  9924.0  9828.0   0.000000   2.0\n",
       "latitude   9924.0  9811.0  53.277248   3.0"
      ]
     },
     "execution_count": 179,
     "metadata": {},
     "output_type": "execute_result"
    }
   ],
   "source": [
    "categorical_features = ['longitude', 'latitude']\n",
    "df_stops_2017[categorical_features].describe().T"
   ]
  },
  {
   "cell_type": "code",
   "execution_count": 180,
   "metadata": {
    "collapsed": false
   },
   "outputs": [
    {
     "data": {
      "text/plain": [
       "(9924, 5)"
      ]
     },
     "execution_count": 180,
     "metadata": {},
     "output_type": "execute_result"
    }
   ],
   "source": [
    "df_stops_2017.shape"
   ]
  },
  {
   "cell_type": "code",
   "execution_count": 181,
   "metadata": {
    "collapsed": false
   },
   "outputs": [
    {
     "data": {
      "text/plain": [
       "Index(['lat', 'lon', 'stop_id', 'stop_address', 'year'], dtype='object')"
      ]
     },
     "execution_count": 181,
     "metadata": {},
     "output_type": "execute_result"
    }
   ],
   "source": [
    "df_stops.columns"
   ]
  },
  {
   "cell_type": "code",
   "execution_count": 182,
   "metadata": {
    "collapsed": false
   },
   "outputs": [
    {
     "name": "stdout",
     "output_type": "stream",
     "text": [
      "Index(['lat', 'lon', 'stop_id', 'stop_address', 'year'], dtype='object')\n",
      "Index(['stop_id', 'stop_address', 'latitude', 'longitude', 'year'], dtype='object')\n"
     ]
    }
   ],
   "source": [
    "print(df_stops.columns)\n",
    "print(df_stops_2017.columns)"
   ]
  },
  {
   "cell_type": "code",
   "execution_count": 183,
   "metadata": {
    "collapsed": true
   },
   "outputs": [],
   "source": [
    "df_stops = df_stops.rename(columns={\"lat\": \"latitude\", \"lon\": \"longitude\"})"
   ]
  },
  {
   "cell_type": "code",
   "execution_count": 184,
   "metadata": {
    "collapsed": false
   },
   "outputs": [],
   "source": [
    "frames = [df_stops_2017, df_stops]\n",
    "df_all_stops = pd.concat(frames)"
   ]
  },
  {
   "cell_type": "code",
   "execution_count": 185,
   "metadata": {
    "collapsed": false
   },
   "outputs": [
    {
     "data": {
      "text/html": [
       "<div>\n",
       "<table border=\"1\" class=\"dataframe\">\n",
       "  <thead>\n",
       "    <tr style=\"text-align: right;\">\n",
       "      <th></th>\n",
       "      <th>latitude</th>\n",
       "      <th>longitude</th>\n",
       "      <th>stop_address</th>\n",
       "      <th>stop_id</th>\n",
       "      <th>year</th>\n",
       "    </tr>\n",
       "  </thead>\n",
       "  <tbody>\n",
       "    <tr>\n",
       "      <th>0</th>\n",
       "      <td>53.352241</td>\n",
       "      <td>-6.263695</td>\n",
       "      <td>Parnell Square</td>\n",
       "      <td>2</td>\n",
       "      <td>2017</td>\n",
       "    </tr>\n",
       "    <tr>\n",
       "      <th>1</th>\n",
       "      <td>53.352307</td>\n",
       "      <td>-6.263783</td>\n",
       "      <td>Parnell Square</td>\n",
       "      <td>3</td>\n",
       "      <td>2017</td>\n",
       "    </tr>\n",
       "    <tr>\n",
       "      <th>2</th>\n",
       "      <td>53.352567</td>\n",
       "      <td>-6.264166</td>\n",
       "      <td>Parnell Square</td>\n",
       "      <td>4</td>\n",
       "      <td>2017</td>\n",
       "    </tr>\n",
       "    <tr>\n",
       "      <th>3</th>\n",
       "      <td>53.352744</td>\n",
       "      <td>-6.264443</td>\n",
       "      <td>Parnell Square</td>\n",
       "      <td>6</td>\n",
       "      <td>2017</td>\n",
       "    </tr>\n",
       "    <tr>\n",
       "      <th>4</th>\n",
       "      <td>53.352836</td>\n",
       "      <td>-6.264562</td>\n",
       "      <td>Parnell Square</td>\n",
       "      <td>7</td>\n",
       "      <td>2017</td>\n",
       "    </tr>\n",
       "  </tbody>\n",
       "</table>\n",
       "</div>"
      ],
      "text/plain": [
       "    latitude  longitude    stop_address stop_id  year\n",
       "0  53.352241  -6.263695  Parnell Square       2  2017\n",
       "1  53.352307  -6.263783  Parnell Square       3  2017\n",
       "2  53.352567  -6.264166  Parnell Square       4  2017\n",
       "3  53.352744  -6.264443  Parnell Square       6  2017\n",
       "4  53.352836  -6.264562  Parnell Square       7  2017"
      ]
     },
     "execution_count": 185,
     "metadata": {},
     "output_type": "execute_result"
    }
   ],
   "source": [
    "df_all_stops.head()"
   ]
  },
  {
   "cell_type": "code",
   "execution_count": 186,
   "metadata": {
    "collapsed": false
   },
   "outputs": [
    {
     "name": "stdout",
     "output_type": "stream",
     "text": [
      "(5255, 5)\n",
      "(9924, 5)\n"
     ]
    }
   ],
   "source": [
    "print(df_stops.shape)\n",
    "print(df_stops_2017.shape)"
   ]
  },
  {
   "cell_type": "code",
   "execution_count": 187,
   "metadata": {
    "collapsed": false
   },
   "outputs": [
    {
     "data": {
      "text/html": [
       "<div>\n",
       "<table border=\"1\" class=\"dataframe\">\n",
       "  <thead>\n",
       "    <tr style=\"text-align: right;\">\n",
       "      <th></th>\n",
       "      <th>count</th>\n",
       "      <th>unique</th>\n",
       "      <th>top</th>\n",
       "      <th>freq</th>\n",
       "    </tr>\n",
       "  </thead>\n",
       "  <tbody>\n",
       "    <tr>\n",
       "      <th>latitude</th>\n",
       "      <td>15179.0</td>\n",
       "      <td>15062.0</td>\n",
       "      <td>53.277248</td>\n",
       "      <td>3.0</td>\n",
       "    </tr>\n",
       "    <tr>\n",
       "      <th>longitude</th>\n",
       "      <td>15179.0</td>\n",
       "      <td>15079.0</td>\n",
       "      <td>0.000000</td>\n",
       "      <td>2.0</td>\n",
       "    </tr>\n",
       "  </tbody>\n",
       "</table>\n",
       "</div>"
      ],
      "text/plain": [
       "             count   unique        top  freq\n",
       "latitude   15179.0  15062.0  53.277248   3.0\n",
       "longitude  15179.0  15079.0   0.000000   2.0"
      ]
     },
     "execution_count": 187,
     "metadata": {},
     "output_type": "execute_result"
    }
   ],
   "source": [
    "df_all_stops['longitude'] = df_all_stops['longitude'].astype('category')\n",
    "df_all_stops['latitude'] = df_all_stops['latitude'].astype('category')\n",
    "categorical_features = ['latitude', 'longitude']\n",
    "df_all_stops[categorical_features].describe().T"
   ]
  },
  {
   "cell_type": "code",
   "execution_count": 188,
   "metadata": {
    "collapsed": false
   },
   "outputs": [
    {
     "data": {
      "text/plain": [
       "(15179, 5)"
      ]
     },
     "execution_count": 188,
     "metadata": {},
     "output_type": "execute_result"
    }
   ],
   "source": [
    "df_all_stops.shape"
   ]
  },
  {
   "cell_type": "code",
   "execution_count": null,
   "metadata": {
    "collapsed": true
   },
   "outputs": [],
   "source": []
  }
 ],
 "metadata": {
  "kernelspec": {
   "display_name": "Python 3",
   "language": "python",
   "name": "python3"
  },
  "language_info": {
   "codemirror_mode": {
    "name": "ipython",
    "version": 3
   },
   "file_extension": ".py",
   "mimetype": "text/x-python",
   "name": "python",
   "nbconvert_exporter": "python",
   "pygments_lexer": "ipython3",
   "version": "3.6.0"
  }
 },
 "nbformat": 4,
 "nbformat_minor": 2
}
